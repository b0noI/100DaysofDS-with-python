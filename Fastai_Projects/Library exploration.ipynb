{
 "cells": [
  {
   "cell_type": "code",
   "execution_count": 2,
   "metadata": {},
   "outputs": [],
   "source": [
    "%load_ext autoreload\n",
    "%autoreload 2\n",
    "%matplotlib inline"
   ]
  },
  {
   "cell_type": "code",
   "execution_count": 3,
   "metadata": {},
   "outputs": [],
   "source": [
    "import fastai\n",
    "from fastai import *\n",
    "from fastai.vision import *"
   ]
  },
  {
   "cell_type": "code",
   "execution_count": 4,
   "metadata": {
    "scrolled": false
   },
   "outputs": [
    {
     "name": "stdout",
     "output_type": "stream",
     "text": [
      "Help on function untar_data in module fastai.datasets:\n",
      "\n",
      "untar_data(url:str, fname:Union[pathlib.Path, str]=None, dest:Union[pathlib.Path, str]=None, data=True)\n",
      "    Download `url` if it doesn't exist to `fname` and un-tgz to folder `dest`\n",
      "\n"
     ]
    }
   ],
   "source": [
    "help(untar_data)"
   ]
  },
  {
   "cell_type": "markdown",
   "metadata": {},
   "source": [
    "### Exclusively works with tgz, doesn't support other files. Try to add support for unzip."
   ]
  },
  {
   "cell_type": "code",
   "execution_count": 5,
   "metadata": {
    "scrolled": true
   },
   "outputs": [
    {
     "name": "stdout",
     "output_type": "stream",
     "text": [
      "Help on function get_image_files in module fastai.vision.data:\n",
      "\n",
      "get_image_files(c:Union[pathlib.Path, str], check_ext:bool=True, recurse=False) -> Collection[pathlib.Path]\n",
      "    Return list of files in `c` that are images. `check_ext` will filter to `image_extensions`.\n",
      "\n"
     ]
    }
   ],
   "source": [
    "help(get_image_files)"
   ]
  },
  {
   "cell_type": "markdown",
   "metadata": {},
   "source": [
    "### The get_image_file can be used to fetch specific type of file aswell."
   ]
  },
  {
   "cell_type": "code",
   "execution_count": 6,
   "metadata": {},
   "outputs": [
    {
     "name": "stdout",
     "output_type": "stream",
     "text": [
      "Help on class ImageDataBunch in module fastai.vision.data:\n",
      "\n",
      "class ImageDataBunch(fastai.basic_data.DataBunch)\n",
      " |  Bind `train_dl`,`valid_dl` and`test_dl` to `device`. tfms are DL tfms (normalize). `path` is for models.\n",
      " |  \n",
      " |  Method resolution order:\n",
      " |      ImageDataBunch\n",
      " |      fastai.basic_data.DataBunch\n",
      " |      builtins.object\n",
      " |  \n",
      " |  Methods defined here:\n",
      " |  \n",
      " |  batch_stats(self, funcs:Collection[Callable]=None) -> torch.Tensor\n",
      " |      Grab a batch of data and call reduction function `func` per channel\n",
      " |  \n",
      " |  labels_to_csv(self, dest:str) -> None\n",
      " |      Save file names and labels in `data` as CSV to file name `dest`.\n",
      " |  \n",
      " |  normalize(self, stats:Collection[torch.Tensor]=None) -> None\n",
      " |      Add normalize transform using `stats` (defaults to `DataBunch.batch_stats`)\n",
      " |  \n",
      " |  show_batch(self:fastai.basic_data.DataBunch, rows:int=None, figsize:Tuple[int, int]=(9, 10), is_train:bool=True) -> None\n",
      " |  \n",
      " |  ----------------------------------------------------------------------\n",
      " |  Class methods defined here:\n",
      " |  \n",
      " |  create(train_ds, valid_ds, test_ds=None, path:Union[pathlib.Path, str]='.', bs:int=64, ds_tfms:Union[fastai.vision.image.Transform, Collection[fastai.vision.image.Transform], NoneType]=None, num_workers:int=6, tfms:Union[Collection[Callable], NoneType]=None, device:torch.device=None, collate_fn:Callable=<function data_collate at 0x7f69083e96a8>, size:int=None, **kwargs) -> 'ImageDataBunch' from builtins.type\n",
      " |      Factory method. `bs` batch size, `ds_tfms` for `Dataset`, `tfms` for `DataLoader`.\n",
      " |  \n",
      " |  from_csv(path:Union[pathlib.Path, str], folder:Union[pathlib.Path, str]='.', sep=None, csv_labels:Union[pathlib.Path, str]='labels.csv', valid_pct:float=0.2, fn_col:int=0, label_col:int=1, test:Union[pathlib.Path, str, NoneType]=None, suffix:str=None, header:Union[int, str, NoneType]='infer', **kwargs:Any) -> 'ImageDataBunch' from builtins.type\n",
      " |      Create from a csv file.\n",
      " |  \n",
      " |  from_df(path:Union[pathlib.Path, str], df:pandas.core.frame.DataFrame, folder:Union[pathlib.Path, str]='.', sep=None, valid_pct:float=0.2, fn_col:int=0, label_col:int=1, test:Union[pathlib.Path, str, NoneType]=None, suffix:str=None, **kwargs:Any) -> 'ImageDataBunch' from builtins.type\n",
      " |      Create from a DataFrame.\n",
      " |  \n",
      " |  from_folder(path:Union[pathlib.Path, str], train:Union[pathlib.Path, str]='train', valid:Union[pathlib.Path, str]='valid', test:Union[pathlib.Path, str, NoneType]=None, valid_pct=None, **kwargs:Any) -> 'ImageDataBunch' from builtins.type\n",
      " |      Create from imagenet style dataset in `path` with `train`,`valid`,`test` subfolders (or provide `valid_pct`).\n",
      " |  \n",
      " |  from_lists(path:Union[pathlib.Path, str], fnames:Collection[pathlib.Path], labels:Collection[str], valid_pct:int=0.2, test:str=None, **kwargs) from builtins.type\n",
      " |  \n",
      " |  from_name_func(path:Union[pathlib.Path, str], fnames:Collection[pathlib.Path], label_func:Callable, valid_pct:int=0.2, test:str=None, **kwargs) from builtins.type\n",
      " |  \n",
      " |  from_name_re(path:Union[pathlib.Path, str], fnames:Collection[pathlib.Path], pat:str, valid_pct:int=0.2, test:str=None, **kwargs) from builtins.type\n",
      " |  \n",
      " |  ----------------------------------------------------------------------\n",
      " |  Static methods defined here:\n",
      " |  \n",
      " |  single_from_classes(path:Union[pathlib.Path, str], classes:Collection[str], **kwargs)\n",
      " |  \n",
      " |  ----------------------------------------------------------------------\n",
      " |  Methods inherited from fastai.basic_data.DataBunch:\n",
      " |  \n",
      " |  __getattr__(self, k:int) -> Any\n",
      " |  \n",
      " |  __init__(self, train_dl:torch.utils.data.dataloader.DataLoader, valid_dl:torch.utils.data.dataloader.DataLoader, test_dl:Union[torch.utils.data.dataloader.DataLoader, NoneType]=None, device:torch.device=None, tfms:Union[Collection[Callable], NoneType]=None, path:Union[pathlib.Path, str]='.', collate_fn:Callable=<function data_collate at 0x7f69083e96a8>)\n",
      " |      Bind `train_dl`,`valid_dl` and`test_dl` to `device`. tfms are DL tfms (normalize). `path` is for models.\n",
      " |  \n",
      " |  add_tfm(self, tfm:Callable) -> None\n",
      " |  \n",
      " |  holdout(self, is_test:bool=False) -> fastai.basic_data.DeviceDataLoader\n",
      " |      Returns correct holdout `Dataset` for test vs validation (`is_test`).\n",
      " |  \n",
      " |  ----------------------------------------------------------------------\n",
      " |  Data descriptors inherited from fastai.basic_data.DataBunch:\n",
      " |  \n",
      " |  __dict__\n",
      " |      dictionary for instance variables (if defined)\n",
      " |  \n",
      " |  __weakref__\n",
      " |      list of weak references to the object (if defined)\n",
      " |  \n",
      " |  loss_func\n",
      " |  \n",
      " |  test_ds\n",
      " |  \n",
      " |  train_ds\n",
      " |  \n",
      " |  valid_ds\n",
      "\n"
     ]
    }
   ],
   "source": [
    "help(ImageDataBunch)"
   ]
  },
  {
   "cell_type": "code",
   "execution_count": 8,
   "metadata": {},
   "outputs": [
    {
     "name": "stdout",
     "output_type": "stream",
     "text": [
      "Help on function get_transforms in module fastai.vision.transform:\n",
      "\n",
      "get_transforms(do_flip:bool=True, flip_vert:bool=False, max_rotate:float=10.0, max_zoom:float=1.1, max_lighting:float=0.2, max_warp:float=0.2, p_affine:float=0.75, p_lighting:float=0.75, xtra_tfms:float=None) -> Collection[fastai.vision.image.Transform]\n",
      "    Utility func to easily create a list of flip, rotate, `zoom`, warp, lighting transforms.\n",
      "\n"
     ]
    }
   ],
   "source": [
    "help(get_transforms)"
   ]
  },
  {
   "cell_type": "code",
   "execution_count": null,
   "metadata": {},
   "outputs": [],
   "source": []
  }
 ],
 "metadata": {
  "kernelspec": {
   "display_name": "Python 3",
   "language": "python",
   "name": "python3"
  },
  "language_info": {
   "codemirror_mode": {
    "name": "ipython",
    "version": 3
   },
   "file_extension": ".py",
   "mimetype": "text/x-python",
   "name": "python",
   "nbconvert_exporter": "python",
   "pygments_lexer": "ipython3",
   "version": "3.6.5"
  },
  "varInspector": {
   "cols": {
    "lenName": 16,
    "lenType": 16,
    "lenVar": 40
   },
   "kernels_config": {
    "python": {
     "delete_cmd_postfix": "",
     "delete_cmd_prefix": "del ",
     "library": "var_list.py",
     "varRefreshCmd": "print(var_dic_list())"
    },
    "r": {
     "delete_cmd_postfix": ") ",
     "delete_cmd_prefix": "rm(",
     "library": "var_list.r",
     "varRefreshCmd": "cat(var_dic_list()) "
    }
   },
   "types_to_exclude": [
    "module",
    "function",
    "builtin_function_or_method",
    "instance",
    "_Feature"
   ],
   "window_display": false
  }
 },
 "nbformat": 4,
 "nbformat_minor": 2
}

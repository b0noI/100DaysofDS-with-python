{
 "cells": [
  {
   "cell_type": "code",
   "execution_count": 1,
   "metadata": {},
   "outputs": [],
   "source": [
    "%load_ext autoreload\n",
    "%autoreload 2\n",
    "%matplotlib inline"
   ]
  },
  {
   "cell_type": "code",
   "execution_count": 2,
   "metadata": {},
   "outputs": [],
   "source": [
    "from fastai import *"
   ]
  },
  {
   "cell_type": "markdown",
   "metadata": {},
   "source": [
    "Lets assume we have a 100 linearly distributed data points and the same can be represented as y = 4*x + 2"
   ]
  },
  {
   "cell_type": "code",
   "execution_count": 3,
   "metadata": {},
   "outputs": [],
   "source": [
    "n=100\n",
    "x = torch.ones(n,2)"
   ]
  },
  {
   "cell_type": "code",
   "execution_count": 4,
   "metadata": {},
   "outputs": [
    {
     "data": {
      "text/plain": [
       "tensor([1.1637, 3.9283, 0.2077, 4.8341, 1.4929, 0.3220, 4.7479, 2.4326, 0.6663,\n",
       "        4.0048, 1.4409, 3.6784, 2.1294, 4.3751, 2.1961, 3.3935, 3.1836, 2.4931,\n",
       "        2.1611, 2.1339, 4.5269, 2.7861, 0.5119, 4.2643, 3.2753, 2.2214, 1.3350,\n",
       "        0.1158, 0.4872, 0.9811, 3.5825, 4.3807, 0.7197, 1.5248, 2.4887, 1.1639,\n",
       "        4.3045, 4.2880, 1.9687, 1.4810, 1.1369, 0.6944, 1.5715, 0.2575, 2.1705,\n",
       "        0.7672, 0.2905, 3.7639, 2.4856, 0.7907, 4.7460, 0.4474, 4.2854, 2.2950,\n",
       "        4.3373, 2.1180, 4.7629, 2.2321, 0.8596, 2.6563, 3.3837, 3.1366, 0.8172,\n",
       "        4.8598, 4.6490, 2.4190, 4.2305, 2.4079, 1.1308, 3.0335, 3.4906, 4.4664,\n",
       "        1.9789, 4.0046, 4.5557, 2.7685, 1.5910, 3.7854, 1.7608, 4.3825, 2.5678,\n",
       "        0.3547, 2.8000, 1.0978, 4.1012, 2.7635, 1.9839, 2.1012, 3.6419, 3.5196,\n",
       "        1.3976, 3.5055, 1.6795, 2.8767, 0.6449, 2.7567, 1.4030, 0.0159, 3.2898,\n",
       "        2.2038])"
      ]
     },
     "execution_count": 4,
     "metadata": {},
     "output_type": "execute_result"
    }
   ],
   "source": [
    "x[:,0].uniform_(0,5)"
   ]
  },
  {
   "cell_type": "code",
   "execution_count": 21,
   "metadata": {},
   "outputs": [
    {
     "data": {
      "text/plain": [
       "tensor([4., 5.])"
      ]
     },
     "execution_count": 21,
     "metadata": {},
     "output_type": "execute_result"
    }
   ],
   "source": [
    "coeff = tensor(4.,5); coeff"
   ]
  },
  {
   "cell_type": "markdown",
   "metadata": {},
   "source": [
    "Why the matrix multiplication of integer is not allowed where as float works fine."
   ]
  },
  {
   "cell_type": "code",
   "execution_count": 22,
   "metadata": {},
   "outputs": [],
   "source": [
    "y = x@coeff + torch.rand(n)"
   ]
  },
  {
   "cell_type": "code",
   "execution_count": 23,
   "metadata": {},
   "outputs": [
    {
     "data": {
      "text/plain": [
       "tensor([ 9.6729, 21.6030,  5.9806, 24.7784, 11.5323,  6.5260, 24.4700, 14.7419,\n",
       "         8.6619, 21.9761, 11.0265, 20.0782, 14.4081, 23.2578, 14.4188, 18.6452,\n",
       "        18.3925, 15.1847, 13.9416, 14.0548, 23.5229, 16.1636,  7.9019, 22.9830,\n",
       "        18.4258, 14.3829, 10.9413,  6.2326,  7.1125,  9.4960, 19.4697, 22.6098,\n",
       "         8.6852, 11.4541, 15.6044, 10.3031, 22.7362, 22.2211, 13.0038, 11.6824,\n",
       "        10.1798,  8.1071, 12.1935,  6.9504, 14.2582,  8.1856,  6.6149, 20.4093,\n",
       "        15.1754,  8.4251, 24.8649,  7.0151, 22.3684, 14.2844, 22.7122, 14.3205,\n",
       "        24.0884, 14.6258,  8.6730, 16.3053, 19.2074, 18.4646,  8.9770, 25.3464,\n",
       "        24.1796, 15.6576, 22.2742, 14.7951,  9.8901, 17.8583, 19.7161, 22.9519,\n",
       "        13.1681, 21.5007, 23.3971, 16.7403, 12.2521, 20.3854, 12.2095, 23.1110,\n",
       "        15.7118,  6.4850, 16.5602, 10.1705, 21.7125, 16.1917, 13.7369, 13.6855,\n",
       "        20.1721, 19.2351, 11.0358, 19.5861, 12.1644, 17.0091,  8.3505, 16.4952,\n",
       "        11.4960,  5.8017, 18.5944, 13.9743])"
      ]
     },
     "execution_count": 23,
     "metadata": {},
     "output_type": "execute_result"
    }
   ],
   "source": [
    "y"
   ]
  },
  {
   "cell_type": "code",
   "execution_count": 24,
   "metadata": {},
   "outputs": [
    {
     "data": {
      "image/png": "[encoded data removed]",
      "text/plain": [
       "<Figure size 432x288 with 1 Axes>"
      ]
     },
     "metadata": {
      "needs_background": "light"
     },
     "output_type": "display_data"
    }
   ],
   "source": [
    "plt.scatter(x[:,0],y);"
   ]
  },
  {
   "cell_type": "markdown",
   "metadata": {},
   "source": [
    "Assume we had only x and y and we wanted to find coeff. In such case we have to go with gradient descent."
   ]
  },
  {
   "cell_type": "code",
   "execution_count": 28,
   "metadata": {},
   "outputs": [],
   "source": [
    "coeff_new = tensor(-1.,1)"
   ]
  },
  {
   "cell_type": "code",
   "execution_count": 29,
   "metadata": {},
   "outputs": [],
   "source": [
    "y_hat = x@coeff_new + torch.rand(n)"
   ]
  },
  {
   "cell_type": "code",
   "execution_count": 35,
   "metadata": {},
   "outputs": [
    {
     "data": {
      "image/png": "[encoded data removed]",
      "text/plain": [
       "<Figure size 432x288 with 1 Axes>"
      ]
     },
     "metadata": {
      "needs_background": "light"
     },
     "output_type": "display_data"
    }
   ],
   "source": [
    "plt.scatter(x[:,0], y)\n",
    "plt.scatter(x[:,0], y_hat);"
   ]
  },
  {
   "cell_type": "code",
   "execution_count": 33,
   "metadata": {},
   "outputs": [],
   "source": [
    "def mse(y , y_hat):\n",
    "    return sum((y-y_hat)**2)/len(y)"
   ]
  },
  {
   "cell_type": "code",
   "execution_count": 34,
   "metadata": {},
   "outputs": [
    {
     "data": {
      "text/plain": [
       "tensor(314.1893)"
      ]
     },
     "execution_count": 34,
     "metadata": {},
     "output_type": "execute_result"
    }
   ],
   "source": [
    "mse(y, y_hat)"
   ]
  },
  {
   "cell_type": "markdown",
   "metadata": {},
   "source": [
    "Pytorch provides neural net parameters which can be used to as coefficients instead of plane tensors and that will allow us to capture the gradients for each operation."
   ]
  },
  {
   "cell_type": "code",
   "execution_count": 67,
   "metadata": {},
   "outputs": [
    {
     "data": {
      "text/plain": [
       "Parameter containing:\n",
       "tensor([-1.,  1.], requires_grad=True)"
      ]
     },
     "execution_count": 67,
     "metadata": {},
     "output_type": "execute_result"
    }
   ],
   "source": [
    "ab = nn.Parameter(tensor(-1,1.)) #notice the nn.Paramter is a wrapper on top of tensor that allows us to capture the gradient\n",
    "ab #This indicated the tensor is updated with some paramter"
   ]
  },
  {
   "cell_type": "code",
   "execution_count": 68,
   "metadata": {},
   "outputs": [
    {
     "name": "stdout",
     "output_type": "stream",
     "text": [
      "tensor(318.4089, grad_fn=<DivBackward0>)\n",
      "tensor(2.6993, grad_fn=<DivBackward0>)\n",
      "tensor(0.5076, grad_fn=<DivBackward0>)\n",
      "tensor(0.2729, grad_fn=<DivBackward0>)\n",
      "tensor(0.2300, grad_fn=<DivBackward0>)\n",
      "tensor(0.1801, grad_fn=<DivBackward0>)\n",
      "tensor(0.1711, grad_fn=<DivBackward0>)\n",
      "tensor(0.1646, grad_fn=<DivBackward0>)\n",
      "tensor(0.1938, grad_fn=<DivBackward0>)\n",
      "tensor(0.2133, grad_fn=<DivBackward0>)\n",
      "tensor(0.1730, grad_fn=<DivBackward0>)\n",
      "tensor(0.2210, grad_fn=<DivBackward0>)\n",
      "tensor(0.2039, grad_fn=<DivBackward0>)\n",
      "tensor(0.1739, grad_fn=<DivBackward0>)\n",
      "tensor(0.1756, grad_fn=<DivBackward0>)\n"
     ]
    }
   ],
   "source": [
    "lr=0.1 #set learning rate to something low.\n",
    "for t in range(150):\n",
    "    y_hat = x@ab + torch.rand(n) #calculate the y based on new ab\n",
    "    loss = mse(y, y_hat) #calculate the losses\n",
    "    loss.backward() #creates the gradient for current tensor\n",
    "    if t % 10 == 0:\n",
    "        print(loss); # for every 10th iteration print the loss\n",
    "    with torch.no_grad(): #for the operations below there wont be any grad calculation\n",
    "        ab.sub_(lr*ab.grad) #update the coefficients as we go\n",
    "        ab.grad.zero_() # set the grad to 0 so that further grad can be calculated without any past influence."
   ]
  },
  {
   "cell_type": "code",
   "execution_count": 69,
   "metadata": {},
   "outputs": [
    {
     "data": {
      "text/plain": [
       "Parameter containing:\n",
       "tensor([3.9845, 5.0017], requires_grad=True)"
      ]
     },
     "execution_count": 69,
     "metadata": {},
     "output_type": "execute_result"
    }
   ],
   "source": [
    "ab"
   ]
  },
  {
   "cell_type": "code",
   "execution_count": 70,
   "metadata": {},
   "outputs": [
    {
     "data": {
      "image/png": "[encoded data removed]",
      "text/plain": [
       "<Figure size 432x288 with 1 Axes>"
      ]
     },
     "metadata": {
      "needs_background": "light"
     },
     "output_type": "display_data"
    }
   ],
   "source": [
    "plt.scatter(x[:,0], y)\n",
    "plt.scatter(x[:,0], y_hat);"
   ]
  },
  {
   "cell_type": "code",
   "execution_count": null,
   "metadata": {},
   "outputs": [],
   "source": []
  }
 ],
 "metadata": {
  "kernelspec": {
   "display_name": "Python 3",
   "language": "python",
   "name": "python3"
  },
  "language_info": {
   "codemirror_mode": {
    "name": "ipython",
    "version": 3
   },
   "file_extension": ".py",
   "mimetype": "text/x-python",
   "name": "python",
   "nbconvert_exporter": "python",
   "pygments_lexer": "ipython3",
   "version": "3.6.5"
  },
  "varInspector": {
   "cols": {
    "lenName": 16,
    "lenType": 16,
    "lenVar": 40
   },
   "kernels_config": {
    "python": {
     "delete_cmd_postfix": "",
     "delete_cmd_prefix": "del ",
     "library": "var_list.py",
     "varRefreshCmd": "print(var_dic_list())"
    },
    "r": {
     "delete_cmd_postfix": ") ",
     "delete_cmd_prefix": "rm(",
     "library": "var_list.r",
     "varRefreshCmd": "cat(var_dic_list()) "
    }
   },
   "types_to_exclude": [
    "module",
    "function",
    "builtin_function_or_method",
    "instance",
    "_Feature"
   ],
   "window_display": false
  }
 },
 "nbformat": 4,
 "nbformat_minor": 2
}

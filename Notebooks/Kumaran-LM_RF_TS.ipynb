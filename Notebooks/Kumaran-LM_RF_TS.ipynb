{
 "cells": [
  {
   "cell_type": "code",
   "execution_count": 66,
   "metadata": {},
   "outputs": [],
   "source": [
    "import os\n",
    "os.environ[\"PATH\"] += os.pathsep + f'C:/Program Files (x86)/Graphviz2.38/bin'"
   ]
  },
  {
   "cell_type": "code",
   "execution_count": 67,
   "metadata": {
    "scrolled": true
   },
   "outputs": [
    {
     "name": "stdout",
     "output_type": "stream",
     "text": [
      "The autoreload extension is already loaded. To reload it, use:\n",
      "  %reload_ext autoreload\n"
     ]
    }
   ],
   "source": [
    "%load_ext autoreload\n",
    "%autoreload 2\n",
    "\n",
    "%matplotlib inline\n",
    "\n",
    "# Import libraries\n",
    "from fastai.imports import *\n",
    "from fastai.structured import  *\n",
    "from pandas_summary import DataFrameSummary\n",
    "from sklearn.ensemble import RandomForestRegressor, RandomForestClassifier\n",
    "from IPython.display import display\n",
    "\n",
    "from sklearn import metrics\n",
    "\n",
    "PATH='Data/'\n",
    "\n",
    "prices = pd.read_csv(f'{PATH}/prices.csv', parse_dates=['Date'],\n",
    "                     low_memory=False, header=0)"
   ]
  },
  {
   "cell_type": "code",
   "execution_count": 68,
   "metadata": {},
   "outputs": [],
   "source": [
    "prices.columns = prices.columns.str.replace(\"-\",\"_\")"
   ]
  },
  {
   "cell_type": "code",
   "execution_count": 69,
   "metadata": {
    "scrolled": true
   },
   "outputs": [
    {
     "data": {
      "text/plain": [
       "Date                               datetime64[ns]\n",
       "BOLSAA_Price                              float64\n",
       "Bovespa_Brazil_50_Price                   float64\n",
       "CAD_USD_Price                             float64\n",
       "Canada_10Y_BY_Price                       float64\n",
       "Canada_30Y_BY_Price                       float64\n",
       "EUR_USD_Price                             float64\n",
       "Euro_Stoxx_50_Price                       float64\n",
       "JPY_USD_Price                             float64\n",
       "Nikkei_225_Price                          float64\n",
       "Shanghai_Shenzhen_CSI_300_Price           float64\n",
       "SnP_TSX_Composite_Price                   float64\n",
       "SnP_500_Price                             float64\n",
       "US_10Y_BY_Price                           float64\n",
       "US_30Y_BY.csv_Price                       float64\n",
       "Holiday                                      bool\n",
       "weekend                                      bool\n",
       "month                                      object\n",
       "quarter                                    object\n",
       "dtype: object"
      ]
     },
     "execution_count": 69,
     "metadata": {},
     "output_type": "execute_result"
    }
   ],
   "source": [
    "prices.dtypes"
   ]
  },
  {
   "cell_type": "code",
   "execution_count": 70,
   "metadata": {},
   "outputs": [
    {
     "name": "stdout",
     "output_type": "stream",
     "text": [
      "month Index(['Apr', 'Aug', 'Dec', 'Feb', 'Jan', 'Jul', 'Jun', 'Mar', 'May', 'Nov',\n",
      "       'Oct', 'Sep'],\n",
      "      dtype='object')\n",
      "quarter Index(['Q1', 'Q2', 'Q3', 'Q4'], dtype='object')\n"
     ]
    }
   ],
   "source": [
    "add_datepart(prices, \"Date\", drop=False)\n",
    "train_cats(prices)\n",
    "\n",
    "for name, series in prices.items():\n",
    "    if(is_string_dtype(series.dtype)):\n",
    "        print(name, prices[name].cat.categories)"
   ]
  },
  {
   "cell_type": "code",
   "execution_count": 71,
   "metadata": {},
   "outputs": [
    {
     "data": {
      "text/plain": [
       "(1744, 32)"
      ]
     },
     "execution_count": 71,
     "metadata": {},
     "output_type": "execute_result"
    }
   ],
   "source": [
    "prices.shape"
   ]
  },
  {
   "cell_type": "code",
   "execution_count": 72,
   "metadata": {
    "scrolled": true
   },
   "outputs": [
    {
     "data": {
      "text/plain": [
       "Index(['Date', 'BOLSAA_Price', 'Bovespa_Brazil_50_Price', 'CAD_USD_Price',\n",
       "       'Canada_10Y_BY_Price', 'Canada_30Y_BY_Price', 'EUR_USD_Price',\n",
       "       'Euro_Stoxx_50_Price', 'JPY_USD_Price', 'Nikkei_225_Price',\n",
       "       'Shanghai_Shenzhen_CSI_300_Price', 'SnP_TSX_Composite_Price',\n",
       "       'SnP_500_Price', 'US_10Y_BY_Price', 'US_30Y_BY.csv_Price', 'Holiday',\n",
       "       'weekend', 'month', 'quarter', 'Year', 'Month', 'Week', 'Day',\n",
       "       'Dayofweek', 'Dayofyear', 'Is_month_end', 'Is_month_start',\n",
       "       'Is_quarter_end', 'Is_quarter_start', 'Is_year_end', 'Is_year_start',\n",
       "       'Elapsed'],\n",
       "      dtype='object')"
      ]
     },
     "execution_count": 72,
     "metadata": {},
     "output_type": "execute_result"
    }
   ],
   "source": [
    "prices.columns"
   ]
  },
  {
   "cell_type": "code",
   "execution_count": 73,
   "metadata": {
    "scrolled": true
   },
   "outputs": [
    {
     "data": {
      "text/plain": [
       "BOLSAA_Price                       0\n",
       "Bovespa_Brazil_50_Price            0\n",
       "CAD_USD_Price                      0\n",
       "Canada_10Y_BY_Price                0\n",
       "Canada_30Y_BY_Price                0\n",
       "Date                               0\n",
       "Day                                0\n",
       "Dayofweek                          0\n",
       "Dayofyear                          0\n",
       "EUR_USD_Price                      0\n",
       "Elapsed                            0\n",
       "Euro_Stoxx_50_Price                0\n",
       "Holiday                            0\n",
       "Is_month_end                       0\n",
       "Is_month_start                     0\n",
       "Is_quarter_end                     0\n",
       "Is_quarter_start                   0\n",
       "Is_year_end                        0\n",
       "Is_year_start                      0\n",
       "JPY_USD_Price                      0\n",
       "Month                              0\n",
       "Nikkei_225_Price                   0\n",
       "Shanghai_Shenzhen_CSI_300_Price    0\n",
       "SnP_500_Price                      0\n",
       "SnP_TSX_Composite_Price            0\n",
       "US_10Y_BY_Price                    0\n",
       "US_30Y_BY.csv_Price                0\n",
       "Week                               0\n",
       "Year                               0\n",
       "month                              0\n",
       "quarter                            0\n",
       "weekend                            0\n",
       "dtype: int64"
      ]
     },
     "execution_count": 73,
     "metadata": {},
     "output_type": "execute_result"
    }
   ],
   "source": [
    "prices.isnull().sum().sort_index()"
   ]
  },
  {
   "cell_type": "code",
   "execution_count": 74,
   "metadata": {},
   "outputs": [],
   "source": [
    "#prices.reset_index(inplace=True)"
   ]
  },
  {
   "cell_type": "code",
   "execution_count": 75,
   "metadata": {},
   "outputs": [],
   "source": [
    "date = prices.Date.copy()"
   ]
  },
  {
   "cell_type": "code",
   "execution_count": 76,
   "metadata": {},
   "outputs": [],
   "source": [
    "prices.drop('Date', axis=1, inplace=True)"
   ]
  },
  {
   "cell_type": "code",
   "execution_count": 77,
   "metadata": {},
   "outputs": [],
   "source": [
    "prices, y, nas= proc_df(prices)"
   ]
  },
  {
   "cell_type": "code",
   "execution_count": 78,
   "metadata": {
    "scrolled": true
   },
   "outputs": [
    {
     "data": {
      "text/plain": [
       "BOLSAA_Price                       0\n",
       "Bovespa_Brazil_50_Price            0\n",
       "CAD_USD_Price                      0\n",
       "Canada_10Y_BY_Price                0\n",
       "Canada_30Y_BY_Price                0\n",
       "Day                                0\n",
       "Dayofweek                          0\n",
       "Dayofyear                          0\n",
       "EUR_USD_Price                      0\n",
       "Elapsed                            0\n",
       "Euro_Stoxx_50_Price                0\n",
       "Holiday                            0\n",
       "Is_month_end                       0\n",
       "Is_month_start                     0\n",
       "Is_quarter_end                     0\n",
       "Is_quarter_start                   0\n",
       "Is_year_end                        0\n",
       "Is_year_start                      0\n",
       "JPY_USD_Price                      0\n",
       "Month                              0\n",
       "Nikkei_225_Price                   0\n",
       "Shanghai_Shenzhen_CSI_300_Price    0\n",
       "SnP_500_Price                      0\n",
       "SnP_TSX_Composite_Price            0\n",
       "US_10Y_BY_Price                    0\n",
       "US_30Y_BY.csv_Price                0\n",
       "Week                               0\n",
       "Year                               0\n",
       "month                              0\n",
       "quarter                            0\n",
       "weekend                            0\n",
       "dtype: int64"
      ]
     },
     "execution_count": 78,
     "metadata": {},
     "output_type": "execute_result"
    }
   ],
   "source": [
    "prices.isnull().sum().sort_index()"
   ]
  },
  {
   "cell_type": "code",
   "execution_count": 79,
   "metadata": {},
   "outputs": [],
   "source": [
    "os.makedirs('tmp',exist_ok=True)\n",
    "prices.to_feather('tmp/prices')"
   ]
  },
  {
   "cell_type": "code",
   "execution_count": 80,
   "metadata": {},
   "outputs": [
    {
     "data": {
      "text/html": [
       "<div>\n",
       "<style scoped>\n",
       "    .dataframe tbody tr th:only-of-type {\n",
       "        vertical-align: middle;\n",
       "    }\n",
       "\n",
       "    .dataframe tbody tr th {\n",
       "        vertical-align: top;\n",
       "    }\n",
       "\n",
       "    .dataframe thead th {\n",
       "        text-align: right;\n",
       "    }\n",
       "</style>\n",
       "<table border=\"1\" class=\"dataframe\">\n",
       "  <thead>\n",
       "    <tr style=\"text-align: right;\">\n",
       "      <th></th>\n",
       "      <th>0</th>\n",
       "      <th>1</th>\n",
       "      <th>2</th>\n",
       "      <th>3</th>\n",
       "      <th>4</th>\n",
       "    </tr>\n",
       "  </thead>\n",
       "  <tbody>\n",
       "    <tr>\n",
       "      <th>BOLSAA_Price</th>\n",
       "      <td>31.68</td>\n",
       "      <td>32.06</td>\n",
       "      <td>32.17</td>\n",
       "      <td>32.88</td>\n",
       "      <td>32.8</td>\n",
       "    </tr>\n",
       "    <tr>\n",
       "      <th>Bovespa_Brazil_50_Price</th>\n",
       "      <td>13880.5</td>\n",
       "      <td>13742.5</td>\n",
       "      <td>13964.1</td>\n",
       "      <td>14056.1</td>\n",
       "      <td>14550.3</td>\n",
       "    </tr>\n",
       "    <tr>\n",
       "      <th>CAD_USD_Price</th>\n",
       "      <td>0.7803</td>\n",
       "      <td>0.7827</td>\n",
       "      <td>0.7763</td>\n",
       "      <td>0.7809</td>\n",
       "      <td>0.7821</td>\n",
       "    </tr>\n",
       "    <tr>\n",
       "      <th>Canada_10Y_BY_Price</th>\n",
       "      <td>2.516</td>\n",
       "      <td>2.516</td>\n",
       "      <td>2.486</td>\n",
       "      <td>2.52</td>\n",
       "      <td>2.501</td>\n",
       "    </tr>\n",
       "    <tr>\n",
       "      <th>Canada_30Y_BY_Price</th>\n",
       "      <td>2.501</td>\n",
       "      <td>2.501</td>\n",
       "      <td>2.496</td>\n",
       "      <td>2.528</td>\n",
       "      <td>2.512</td>\n",
       "    </tr>\n",
       "    <tr>\n",
       "      <th>EUR_USD_Price</th>\n",
       "      <td>1.1788</td>\n",
       "      <td>1.179</td>\n",
       "      <td>1.1778</td>\n",
       "      <td>1.1795</td>\n",
       "      <td>1.1807</td>\n",
       "    </tr>\n",
       "    <tr>\n",
       "      <th>Euro_Stoxx_50_Price</th>\n",
       "      <td>3587.25</td>\n",
       "      <td>3572.57</td>\n",
       "      <td>3573.76</td>\n",
       "      <td>3592.18</td>\n",
       "      <td>3562.85</td>\n",
       "    </tr>\n",
       "    <tr>\n",
       "      <th>JPY_USD_Price</th>\n",
       "      <td>0.00903</td>\n",
       "      <td>0.00901</td>\n",
       "      <td>0.00903</td>\n",
       "      <td>0.00902</td>\n",
       "      <td>0.00906</td>\n",
       "    </tr>\n",
       "    <tr>\n",
       "      <th>Nikkei_225_Price</th>\n",
       "      <td>22960.3</td>\n",
       "      <td>23002.4</td>\n",
       "      <td>22930.4</td>\n",
       "      <td>22838.4</td>\n",
       "      <td>22717.2</td>\n",
       "    </tr>\n",
       "    <tr>\n",
       "      <th>Shanghai_Shenzhen_CSI_300_Price</th>\n",
       "      <td>3906.21</td>\n",
       "      <td>3921.24</td>\n",
       "      <td>3903.06</td>\n",
       "      <td>3864.05</td>\n",
       "      <td>3892.84</td>\n",
       "    </tr>\n",
       "    <tr>\n",
       "      <th>SnP_TSX_Composite_Price</th>\n",
       "      <td>16144.8</td>\n",
       "      <td>16144.8</td>\n",
       "      <td>16162.3</td>\n",
       "      <td>16143.5</td>\n",
       "      <td>16108.1</td>\n",
       "    </tr>\n",
       "    <tr>\n",
       "      <th>SnP_500_Price</th>\n",
       "      <td>2724.44</td>\n",
       "      <td>2733.01</td>\n",
       "      <td>2712.97</td>\n",
       "      <td>2720.13</td>\n",
       "      <td>2722.46</td>\n",
       "    </tr>\n",
       "    <tr>\n",
       "      <th>US_10Y_BY_Price</th>\n",
       "      <td>3.063</td>\n",
       "      <td>3.058</td>\n",
       "      <td>3.06</td>\n",
       "      <td>3.115</td>\n",
       "      <td>3.104</td>\n",
       "    </tr>\n",
       "    <tr>\n",
       "      <th>US_30Y_BY.csv_Price</th>\n",
       "      <td>3.207</td>\n",
       "      <td>3.201</td>\n",
       "      <td>3.202</td>\n",
       "      <td>3.25</td>\n",
       "      <td>3.223</td>\n",
       "    </tr>\n",
       "    <tr>\n",
       "      <th>Holiday</th>\n",
       "      <td>False</td>\n",
       "      <td>False</td>\n",
       "      <td>False</td>\n",
       "      <td>False</td>\n",
       "      <td>False</td>\n",
       "    </tr>\n",
       "    <tr>\n",
       "      <th>weekend</th>\n",
       "      <td>False</td>\n",
       "      <td>False</td>\n",
       "      <td>False</td>\n",
       "      <td>False</td>\n",
       "      <td>False</td>\n",
       "    </tr>\n",
       "    <tr>\n",
       "      <th>month</th>\n",
       "      <td>9</td>\n",
       "      <td>9</td>\n",
       "      <td>9</td>\n",
       "      <td>9</td>\n",
       "      <td>9</td>\n",
       "    </tr>\n",
       "    <tr>\n",
       "      <th>quarter</th>\n",
       "      <td>2</td>\n",
       "      <td>2</td>\n",
       "      <td>2</td>\n",
       "      <td>2</td>\n",
       "      <td>2</td>\n",
       "    </tr>\n",
       "    <tr>\n",
       "      <th>Year</th>\n",
       "      <td>2018</td>\n",
       "      <td>2018</td>\n",
       "      <td>2018</td>\n",
       "      <td>2018</td>\n",
       "      <td>2018</td>\n",
       "    </tr>\n",
       "    <tr>\n",
       "      <th>Month</th>\n",
       "      <td>5</td>\n",
       "      <td>5</td>\n",
       "      <td>5</td>\n",
       "      <td>5</td>\n",
       "      <td>5</td>\n",
       "    </tr>\n",
       "    <tr>\n",
       "      <th>Week</th>\n",
       "      <td>21</td>\n",
       "      <td>21</td>\n",
       "      <td>20</td>\n",
       "      <td>20</td>\n",
       "      <td>20</td>\n",
       "    </tr>\n",
       "    <tr>\n",
       "      <th>Day</th>\n",
       "      <td>22</td>\n",
       "      <td>21</td>\n",
       "      <td>18</td>\n",
       "      <td>17</td>\n",
       "      <td>16</td>\n",
       "    </tr>\n",
       "    <tr>\n",
       "      <th>Dayofweek</th>\n",
       "      <td>1</td>\n",
       "      <td>0</td>\n",
       "      <td>4</td>\n",
       "      <td>3</td>\n",
       "      <td>2</td>\n",
       "    </tr>\n",
       "    <tr>\n",
       "      <th>Dayofyear</th>\n",
       "      <td>142</td>\n",
       "      <td>141</td>\n",
       "      <td>138</td>\n",
       "      <td>137</td>\n",
       "      <td>136</td>\n",
       "    </tr>\n",
       "    <tr>\n",
       "      <th>Is_month_end</th>\n",
       "      <td>False</td>\n",
       "      <td>False</td>\n",
       "      <td>False</td>\n",
       "      <td>False</td>\n",
       "      <td>False</td>\n",
       "    </tr>\n",
       "    <tr>\n",
       "      <th>Is_month_start</th>\n",
       "      <td>False</td>\n",
       "      <td>False</td>\n",
       "      <td>False</td>\n",
       "      <td>False</td>\n",
       "      <td>False</td>\n",
       "    </tr>\n",
       "    <tr>\n",
       "      <th>Is_quarter_end</th>\n",
       "      <td>False</td>\n",
       "      <td>False</td>\n",
       "      <td>False</td>\n",
       "      <td>False</td>\n",
       "      <td>False</td>\n",
       "    </tr>\n",
       "    <tr>\n",
       "      <th>Is_quarter_start</th>\n",
       "      <td>False</td>\n",
       "      <td>False</td>\n",
       "      <td>False</td>\n",
       "      <td>False</td>\n",
       "      <td>False</td>\n",
       "    </tr>\n",
       "    <tr>\n",
       "      <th>Is_year_end</th>\n",
       "      <td>False</td>\n",
       "      <td>False</td>\n",
       "      <td>False</td>\n",
       "      <td>False</td>\n",
       "      <td>False</td>\n",
       "    </tr>\n",
       "    <tr>\n",
       "      <th>Is_year_start</th>\n",
       "      <td>False</td>\n",
       "      <td>False</td>\n",
       "      <td>False</td>\n",
       "      <td>False</td>\n",
       "      <td>False</td>\n",
       "    </tr>\n",
       "    <tr>\n",
       "      <th>Elapsed</th>\n",
       "      <td>1526947200</td>\n",
       "      <td>1526860800</td>\n",
       "      <td>1526601600</td>\n",
       "      <td>1526515200</td>\n",
       "      <td>1526428800</td>\n",
       "    </tr>\n",
       "  </tbody>\n",
       "</table>\n",
       "</div>"
      ],
      "text/plain": [
       "                                          0           1           2  \\\n",
       "BOLSAA_Price                          31.68       32.06       32.17   \n",
       "Bovespa_Brazil_50_Price             13880.5     13742.5     13964.1   \n",
       "CAD_USD_Price                        0.7803      0.7827      0.7763   \n",
       "Canada_10Y_BY_Price                   2.516       2.516       2.486   \n",
       "Canada_30Y_BY_Price                   2.501       2.501       2.496   \n",
       "EUR_USD_Price                        1.1788       1.179      1.1778   \n",
       "Euro_Stoxx_50_Price                 3587.25     3572.57     3573.76   \n",
       "JPY_USD_Price                       0.00903     0.00901     0.00903   \n",
       "Nikkei_225_Price                    22960.3     23002.4     22930.4   \n",
       "Shanghai_Shenzhen_CSI_300_Price     3906.21     3921.24     3903.06   \n",
       "SnP_TSX_Composite_Price             16144.8     16144.8     16162.3   \n",
       "SnP_500_Price                       2724.44     2733.01     2712.97   \n",
       "US_10Y_BY_Price                       3.063       3.058        3.06   \n",
       "US_30Y_BY.csv_Price                   3.207       3.201       3.202   \n",
       "Holiday                               False       False       False   \n",
       "weekend                               False       False       False   \n",
       "month                                     9           9           9   \n",
       "quarter                                   2           2           2   \n",
       "Year                                   2018        2018        2018   \n",
       "Month                                     5           5           5   \n",
       "Week                                     21          21          20   \n",
       "Day                                      22          21          18   \n",
       "Dayofweek                                 1           0           4   \n",
       "Dayofyear                               142         141         138   \n",
       "Is_month_end                          False       False       False   \n",
       "Is_month_start                        False       False       False   \n",
       "Is_quarter_end                        False       False       False   \n",
       "Is_quarter_start                      False       False       False   \n",
       "Is_year_end                           False       False       False   \n",
       "Is_year_start                         False       False       False   \n",
       "Elapsed                          1526947200  1526860800  1526601600   \n",
       "\n",
       "                                          3           4  \n",
       "BOLSAA_Price                          32.88        32.8  \n",
       "Bovespa_Brazil_50_Price             14056.1     14550.3  \n",
       "CAD_USD_Price                        0.7809      0.7821  \n",
       "Canada_10Y_BY_Price                    2.52       2.501  \n",
       "Canada_30Y_BY_Price                   2.528       2.512  \n",
       "EUR_USD_Price                        1.1795      1.1807  \n",
       "Euro_Stoxx_50_Price                 3592.18     3562.85  \n",
       "JPY_USD_Price                       0.00902     0.00906  \n",
       "Nikkei_225_Price                    22838.4     22717.2  \n",
       "Shanghai_Shenzhen_CSI_300_Price     3864.05     3892.84  \n",
       "SnP_TSX_Composite_Price             16143.5     16108.1  \n",
       "SnP_500_Price                       2720.13     2722.46  \n",
       "US_10Y_BY_Price                       3.115       3.104  \n",
       "US_30Y_BY.csv_Price                    3.25       3.223  \n",
       "Holiday                               False       False  \n",
       "weekend                               False       False  \n",
       "month                                     9           9  \n",
       "quarter                                   2           2  \n",
       "Year                                   2018        2018  \n",
       "Month                                     5           5  \n",
       "Week                                     20          20  \n",
       "Day                                      17          16  \n",
       "Dayofweek                                 3           2  \n",
       "Dayofyear                               137         136  \n",
       "Is_month_end                          False       False  \n",
       "Is_month_start                        False       False  \n",
       "Is_quarter_end                        False       False  \n",
       "Is_quarter_start                      False       False  \n",
       "Is_year_end                           False       False  \n",
       "Is_year_start                         False       False  \n",
       "Elapsed                          1526515200  1526428800  "
      ]
     },
     "execution_count": 80,
     "metadata": {},
     "output_type": "execute_result"
    }
   ],
   "source": [
    "prices.head().T"
   ]
  },
  {
   "cell_type": "code",
   "execution_count": 81,
   "metadata": {},
   "outputs": [],
   "source": [
    "prices_R = prices.iloc[::-1]"
   ]
  },
  {
   "cell_type": "code",
   "execution_count": 82,
   "metadata": {},
   "outputs": [],
   "source": [
    "#df_raw, y, nas = proc_df(prices, 'CAD-USD_Price')\n",
    "def create_feature_var(df, name):\n",
    "    if len(df[name]):\n",
    "        df_raw, y, nas = proc_df(prices, name)\n",
    "    else:\n",
    "        df_raw, y, nas = None, None, None\n",
    "    return df_raw, y, nas"
   ]
  },
  {
   "cell_type": "code",
   "execution_count": 83,
   "metadata": {},
   "outputs": [],
   "source": [
    "train_index = round(len(prices)*0.7)"
   ]
  },
  {
   "cell_type": "code",
   "execution_count": 84,
   "metadata": {
    "scrolled": true
   },
   "outputs": [],
   "source": [
    "dataframe, target, nas = create_feature_var(prices_R, 'CAD_USD_Price')"
   ]
  },
  {
   "cell_type": "code",
   "execution_count": 85,
   "metadata": {
    "scrolled": false
   },
   "outputs": [
    {
     "data": {
      "text/plain": [
       "((1221, 30), (523, 30), (1221,), (523,))"
      ]
     },
     "execution_count": 85,
     "metadata": {},
     "output_type": "execute_result"
    }
   ],
   "source": [
    "def split_df(df, train_index): \n",
    "    return df[:train_index].copy(), df[train_index:].copy()\n",
    "\n",
    "x_train, x_test = split_df(dataframe, train_index)\n",
    "y_train, y_test = split_df(target, train_index)\n",
    "\n",
    "x_train.shape, x_test.shape, y_train.shape, y_test.shape"
   ]
  },
  {
   "cell_type": "code",
   "execution_count": 86,
   "metadata": {},
   "outputs": [],
   "source": [
    "def rmse(x,y): return math.sqrt(((x-y)**2).mean())\n",
    "\n",
    "def print_score(model):\n",
    "    res = [rmse(model.predict(x_train), y_train), \n",
    "           #rmse(model.predict(x_test), y_test),\n",
    "           model.score(x_train, y_train)] \n",
    "           #model.score(x_test, y_test)]\n",
    "    if hasattr(model, 'oob_score_'): res.append(model.oob_score_)\n",
    "    print(res)"
   ]
  },
  {
   "cell_type": "code",
   "execution_count": 87,
   "metadata": {
    "scrolled": true
   },
   "outputs": [
    {
     "name": "stderr",
     "output_type": "stream",
     "text": [
      "/home/rk/miniconda3/envs/fastai-cpu/lib/python3.6/site-packages/sklearn/ensemble/forest.py:724: UserWarning: Some inputs do not have OOB scores. This probably means too few trees were used to compute any reliable oob estimates.\n",
      "  warn(\"Some inputs do not have OOB scores. \"\n"
     ]
    },
    {
     "name": "stdout",
     "output_type": "stream",
     "text": [
      "CPU times: user 62.5 ms, sys: 46.9 ms, total: 109 ms\n",
      "Wall time: 150 ms\n",
      "[0.015030871249101864, 0.9558685088092238, 0.9465367350874693]\n"
     ]
    }
   ],
   "source": [
    "set_rf_samples(1000)\n",
    "m = RandomForestRegressor(n_jobs=-1,oob_score=True, min_samples_leaf=5, max_features=0.5, max_depth=3)\n",
    "%time m.fit(dataframe, target)\n",
    "print_score(m)"
   ]
  },
  {
   "cell_type": "code",
   "execution_count": 88,
   "metadata": {
    "scrolled": false
   },
   "outputs": [
    {
     "ename": "ExecutableNotFound",
     "evalue": "failed to execute ['dot', '-Tsvg'], make sure the Graphviz executables are on your systems' PATH",
     "output_type": "error",
     "traceback": [
      "\u001b[0;31m---------------------------------------------------------------------------\u001b[0m",
      "\u001b[0;31mFileNotFoundError\u001b[0m                         Traceback (most recent call last)",
      "\u001b[0;32m~/miniconda3/envs/fastai-cpu/lib/python3.6/site-packages/graphviz/backend.py\u001b[0m in \u001b[0;36mrun\u001b[0;34m(cmd, input, capture_output, check, quiet, **kwargs)\u001b[0m\n\u001b[1;32m    110\u001b[0m     \u001b[0;32mtry\u001b[0m\u001b[0;34m:\u001b[0m\u001b[0;34m\u001b[0m\u001b[0m\n\u001b[0;32m--> 111\u001b[0;31m         \u001b[0mproc\u001b[0m \u001b[0;34m=\u001b[0m \u001b[0msubprocess\u001b[0m\u001b[0;34m.\u001b[0m\u001b[0mPopen\u001b[0m\u001b[0;34m(\u001b[0m\u001b[0mcmd\u001b[0m\u001b[0;34m,\u001b[0m \u001b[0;34m**\u001b[0m\u001b[0mkwargs\u001b[0m\u001b[0;34m)\u001b[0m\u001b[0;34m\u001b[0m\u001b[0m\n\u001b[0m\u001b[1;32m    112\u001b[0m     \u001b[0;32mexcept\u001b[0m \u001b[0mOSError\u001b[0m \u001b[0;32mas\u001b[0m \u001b[0me\u001b[0m\u001b[0;34m:\u001b[0m\u001b[0;34m\u001b[0m\u001b[0m\n",
      "\u001b[0;32m~/miniconda3/envs/fastai-cpu/lib/python3.6/subprocess.py\u001b[0m in \u001b[0;36m__init__\u001b[0;34m(self, args, bufsize, executable, stdin, stdout, stderr, preexec_fn, close_fds, shell, cwd, env, universal_newlines, startupinfo, creationflags, restore_signals, start_new_session, pass_fds, encoding, errors)\u001b[0m\n\u001b[1;32m    708\u001b[0m                                 \u001b[0merrread\u001b[0m\u001b[0;34m,\u001b[0m \u001b[0merrwrite\u001b[0m\u001b[0;34m,\u001b[0m\u001b[0;34m\u001b[0m\u001b[0m\n\u001b[0;32m--> 709\u001b[0;31m                                 restore_signals, start_new_session)\n\u001b[0m\u001b[1;32m    710\u001b[0m         \u001b[0;32mexcept\u001b[0m\u001b[0;34m:\u001b[0m\u001b[0;34m\u001b[0m\u001b[0m\n",
      "\u001b[0;32m~/miniconda3/envs/fastai-cpu/lib/python3.6/subprocess.py\u001b[0m in \u001b[0;36m_execute_child\u001b[0;34m(self, args, executable, preexec_fn, close_fds, pass_fds, cwd, env, startupinfo, creationflags, shell, p2cread, p2cwrite, c2pread, c2pwrite, errread, errwrite, restore_signals, start_new_session)\u001b[0m\n\u001b[1;32m   1343\u001b[0m                             \u001b[0merr_msg\u001b[0m \u001b[0;34m+=\u001b[0m \u001b[0;34m': '\u001b[0m \u001b[0;34m+\u001b[0m \u001b[0mrepr\u001b[0m\u001b[0;34m(\u001b[0m\u001b[0merr_filename\u001b[0m\u001b[0;34m)\u001b[0m\u001b[0;34m\u001b[0m\u001b[0m\n\u001b[0;32m-> 1344\u001b[0;31m                     \u001b[0;32mraise\u001b[0m \u001b[0mchild_exception_type\u001b[0m\u001b[0;34m(\u001b[0m\u001b[0merrno_num\u001b[0m\u001b[0;34m,\u001b[0m \u001b[0merr_msg\u001b[0m\u001b[0;34m,\u001b[0m \u001b[0merr_filename\u001b[0m\u001b[0;34m)\u001b[0m\u001b[0;34m\u001b[0m\u001b[0m\n\u001b[0m\u001b[1;32m   1345\u001b[0m                 \u001b[0;32mraise\u001b[0m \u001b[0mchild_exception_type\u001b[0m\u001b[0;34m(\u001b[0m\u001b[0merr_msg\u001b[0m\u001b[0;34m)\u001b[0m\u001b[0;34m\u001b[0m\u001b[0m\n",
      "\u001b[0;31mFileNotFoundError\u001b[0m: [Errno 2] No such file or directory: 'dot': 'dot'",
      "\nDuring handling of the above exception, another exception occurred:\n",
      "\u001b[0;31mExecutableNotFound\u001b[0m                        Traceback (most recent call last)",
      "\u001b[0;32m~/miniconda3/envs/fastai-cpu/lib/python3.6/site-packages/IPython/core/formatters.py\u001b[0m in \u001b[0;36m__call__\u001b[0;34m(self, obj)\u001b[0m\n\u001b[1;32m    343\u001b[0m             \u001b[0mmethod\u001b[0m \u001b[0;34m=\u001b[0m \u001b[0mget_real_method\u001b[0m\u001b[0;34m(\u001b[0m\u001b[0mobj\u001b[0m\u001b[0;34m,\u001b[0m \u001b[0mself\u001b[0m\u001b[0;34m.\u001b[0m\u001b[0mprint_method\u001b[0m\u001b[0;34m)\u001b[0m\u001b[0;34m\u001b[0m\u001b[0m\n\u001b[1;32m    344\u001b[0m             \u001b[0;32mif\u001b[0m \u001b[0mmethod\u001b[0m \u001b[0;32mis\u001b[0m \u001b[0;32mnot\u001b[0m \u001b[0;32mNone\u001b[0m\u001b[0;34m:\u001b[0m\u001b[0;34m\u001b[0m\u001b[0m\n\u001b[0;32m--> 345\u001b[0;31m                 \u001b[0;32mreturn\u001b[0m \u001b[0mmethod\u001b[0m\u001b[0;34m(\u001b[0m\u001b[0;34m)\u001b[0m\u001b[0;34m\u001b[0m\u001b[0m\n\u001b[0m\u001b[1;32m    346\u001b[0m             \u001b[0;32mreturn\u001b[0m \u001b[0;32mNone\u001b[0m\u001b[0;34m\u001b[0m\u001b[0m\n\u001b[1;32m    347\u001b[0m         \u001b[0;32melse\u001b[0m\u001b[0;34m:\u001b[0m\u001b[0;34m\u001b[0m\u001b[0m\n",
      "\u001b[0;32m~/miniconda3/envs/fastai-cpu/lib/python3.6/site-packages/graphviz/files.py\u001b[0m in \u001b[0;36m_repr_svg_\u001b[0;34m(self)\u001b[0m\n\u001b[1;32m    104\u001b[0m \u001b[0;34m\u001b[0m\u001b[0m\n\u001b[1;32m    105\u001b[0m     \u001b[0;32mdef\u001b[0m \u001b[0m_repr_svg_\u001b[0m\u001b[0;34m(\u001b[0m\u001b[0mself\u001b[0m\u001b[0;34m)\u001b[0m\u001b[0;34m:\u001b[0m\u001b[0;34m\u001b[0m\u001b[0m\n\u001b[0;32m--> 106\u001b[0;31m         \u001b[0;32mreturn\u001b[0m \u001b[0mself\u001b[0m\u001b[0;34m.\u001b[0m\u001b[0mpipe\u001b[0m\u001b[0;34m(\u001b[0m\u001b[0mformat\u001b[0m\u001b[0;34m=\u001b[0m\u001b[0;34m'svg'\u001b[0m\u001b[0;34m)\u001b[0m\u001b[0;34m.\u001b[0m\u001b[0mdecode\u001b[0m\u001b[0;34m(\u001b[0m\u001b[0mself\u001b[0m\u001b[0;34m.\u001b[0m\u001b[0m_encoding\u001b[0m\u001b[0;34m)\u001b[0m\u001b[0;34m\u001b[0m\u001b[0m\n\u001b[0m\u001b[1;32m    107\u001b[0m \u001b[0;34m\u001b[0m\u001b[0m\n\u001b[1;32m    108\u001b[0m     \u001b[0;32mdef\u001b[0m \u001b[0mpipe\u001b[0m\u001b[0;34m(\u001b[0m\u001b[0mself\u001b[0m\u001b[0;34m,\u001b[0m \u001b[0mformat\u001b[0m\u001b[0;34m=\u001b[0m\u001b[0;32mNone\u001b[0m\u001b[0;34m)\u001b[0m\u001b[0;34m:\u001b[0m\u001b[0;34m\u001b[0m\u001b[0m\n",
      "\u001b[0;32m~/miniconda3/envs/fastai-cpu/lib/python3.6/site-packages/graphviz/files.py\u001b[0m in \u001b[0;36mpipe\u001b[0;34m(self, format)\u001b[0m\n\u001b[1;32m    123\u001b[0m         \u001b[0mdata\u001b[0m \u001b[0;34m=\u001b[0m \u001b[0mtext_type\u001b[0m\u001b[0;34m(\u001b[0m\u001b[0mself\u001b[0m\u001b[0;34m.\u001b[0m\u001b[0msource\u001b[0m\u001b[0;34m)\u001b[0m\u001b[0;34m.\u001b[0m\u001b[0mencode\u001b[0m\u001b[0;34m(\u001b[0m\u001b[0mself\u001b[0m\u001b[0;34m.\u001b[0m\u001b[0m_encoding\u001b[0m\u001b[0;34m)\u001b[0m\u001b[0;34m\u001b[0m\u001b[0m\n\u001b[1;32m    124\u001b[0m \u001b[0;34m\u001b[0m\u001b[0m\n\u001b[0;32m--> 125\u001b[0;31m         \u001b[0mouts\u001b[0m \u001b[0;34m=\u001b[0m \u001b[0mbackend\u001b[0m\u001b[0;34m.\u001b[0m\u001b[0mpipe\u001b[0m\u001b[0;34m(\u001b[0m\u001b[0mself\u001b[0m\u001b[0;34m.\u001b[0m\u001b[0m_engine\u001b[0m\u001b[0;34m,\u001b[0m \u001b[0mformat\u001b[0m\u001b[0;34m,\u001b[0m \u001b[0mdata\u001b[0m\u001b[0;34m)\u001b[0m\u001b[0;34m\u001b[0m\u001b[0m\n\u001b[0m\u001b[1;32m    126\u001b[0m \u001b[0;34m\u001b[0m\u001b[0m\n\u001b[1;32m    127\u001b[0m         \u001b[0;32mreturn\u001b[0m \u001b[0mouts\u001b[0m\u001b[0;34m\u001b[0m\u001b[0m\n",
      "\u001b[0;32m~/miniconda3/envs/fastai-cpu/lib/python3.6/site-packages/graphviz/backend.py\u001b[0m in \u001b[0;36mpipe\u001b[0;34m(engine, format, data, quiet)\u001b[0m\n\u001b[1;32m    160\u001b[0m     \"\"\"\n\u001b[1;32m    161\u001b[0m     \u001b[0mcmd\u001b[0m\u001b[0;34m,\u001b[0m \u001b[0m_\u001b[0m \u001b[0;34m=\u001b[0m \u001b[0mcommand\u001b[0m\u001b[0;34m(\u001b[0m\u001b[0mengine\u001b[0m\u001b[0;34m,\u001b[0m \u001b[0mformat\u001b[0m\u001b[0;34m)\u001b[0m\u001b[0;34m\u001b[0m\u001b[0m\n\u001b[0;32m--> 162\u001b[0;31m     \u001b[0mout\u001b[0m\u001b[0;34m,\u001b[0m \u001b[0m_\u001b[0m \u001b[0;34m=\u001b[0m \u001b[0mrun\u001b[0m\u001b[0;34m(\u001b[0m\u001b[0mcmd\u001b[0m\u001b[0;34m,\u001b[0m \u001b[0minput\u001b[0m\u001b[0;34m=\u001b[0m\u001b[0mdata\u001b[0m\u001b[0;34m,\u001b[0m \u001b[0mcapture_output\u001b[0m\u001b[0;34m=\u001b[0m\u001b[0;32mTrue\u001b[0m\u001b[0;34m,\u001b[0m \u001b[0mcheck\u001b[0m\u001b[0;34m=\u001b[0m\u001b[0;32mTrue\u001b[0m\u001b[0;34m,\u001b[0m \u001b[0mquiet\u001b[0m\u001b[0;34m=\u001b[0m\u001b[0mquiet\u001b[0m\u001b[0;34m)\u001b[0m\u001b[0;34m\u001b[0m\u001b[0m\n\u001b[0m\u001b[1;32m    163\u001b[0m     \u001b[0;32mreturn\u001b[0m \u001b[0mout\u001b[0m\u001b[0;34m\u001b[0m\u001b[0m\n\u001b[1;32m    164\u001b[0m \u001b[0;34m\u001b[0m\u001b[0m\n",
      "\u001b[0;32m~/miniconda3/envs/fastai-cpu/lib/python3.6/site-packages/graphviz/backend.py\u001b[0m in \u001b[0;36mrun\u001b[0;34m(cmd, input, capture_output, check, quiet, **kwargs)\u001b[0m\n\u001b[1;32m    112\u001b[0m     \u001b[0;32mexcept\u001b[0m \u001b[0mOSError\u001b[0m \u001b[0;32mas\u001b[0m \u001b[0me\u001b[0m\u001b[0;34m:\u001b[0m\u001b[0;34m\u001b[0m\u001b[0m\n\u001b[1;32m    113\u001b[0m         \u001b[0;32mif\u001b[0m \u001b[0me\u001b[0m\u001b[0;34m.\u001b[0m\u001b[0merrno\u001b[0m \u001b[0;34m==\u001b[0m \u001b[0merrno\u001b[0m\u001b[0;34m.\u001b[0m\u001b[0mENOENT\u001b[0m\u001b[0;34m:\u001b[0m\u001b[0;34m\u001b[0m\u001b[0m\n\u001b[0;32m--> 114\u001b[0;31m             \u001b[0;32mraise\u001b[0m \u001b[0mExecutableNotFound\u001b[0m\u001b[0;34m(\u001b[0m\u001b[0mcmd\u001b[0m\u001b[0;34m)\u001b[0m\u001b[0;34m\u001b[0m\u001b[0m\n\u001b[0m\u001b[1;32m    115\u001b[0m         \u001b[0;32melse\u001b[0m\u001b[0;34m:\u001b[0m  \u001b[0;31m# pragma: no cover\u001b[0m\u001b[0;34m\u001b[0m\u001b[0m\n\u001b[1;32m    116\u001b[0m             \u001b[0;32mraise\u001b[0m\u001b[0;34m\u001b[0m\u001b[0m\n",
      "\u001b[0;31mExecutableNotFound\u001b[0m: failed to execute ['dot', '-Tsvg'], make sure the Graphviz executables are on your systems' PATH"
     ]
    },
    {
     "data": {
      "text/plain": [
       "<graphviz.files.Source at 0x7f3c00b69860>"
      ]
     },
     "metadata": {},
     "output_type": "display_data"
    }
   ],
   "source": [
    "draw_tree(m.estimators_[0], dataframe, precision=3)"
   ]
  },
  {
   "cell_type": "code",
   "execution_count": 101,
   "metadata": {},
   "outputs": [
    {
     "data": {
      "text/plain": [
       "(30, 2)"
      ]
     },
     "execution_count": 101,
     "metadata": {},
     "output_type": "execute_result"
    }
   ],
   "source": [
    "fi = rf_feat_importance(m, x_train)\n",
    "fi.shape"
   ]
  },
  {
   "cell_type": "code",
   "execution_count": 90,
   "metadata": {
    "scrolled": false
   },
   "outputs": [
    {
     "name": "stdout",
     "output_type": "stream",
     "text": [
      "0.9759559422253371 0.011990528376543361 0.9893\n",
      "0.9655859029689535 0.0041399629235524165 0.9675\n",
      "0.9655859029689535 0.0041399629235524165 0.9490000000000001\n"
     ]
    }
   ],
   "source": [
    "preds = np.stack([t.predict(x_test) for t in m.estimators_])\n",
    "print(np.mean(preds[:,100]), np.std(preds[:,100]), y_test[100])\n",
    "print(np.mean(preds[:,10]), np.std(preds[:,10]), y_test[10])\n",
    "print(np.mean(preds[:,0]), np.std(preds[:,0]), y_test[0])"
   ]
  },
  {
   "cell_type": "code",
   "execution_count": 102,
   "metadata": {
    "scrolled": true
   },
   "outputs": [],
   "source": [
    "fi_np = np.array(fi)"
   ]
  },
  {
   "cell_type": "code",
   "execution_count": 103,
   "metadata": {},
   "outputs": [
    {
     "data": {
      "image/png": "[encoded data removed]",
      "text/plain": [
       "<Figure size 432x288 with 1 Axes>"
      ]
     },
     "metadata": {
      "needs_background": "light"
     },
     "output_type": "display_data"
    }
   ],
   "source": [
    "plt.plot(fi_np[:,0], fi_np[:,1]);\n",
    "plt.xticks(rotation=90);"
   ]
  },
  {
   "cell_type": "code",
   "execution_count": 104,
   "metadata": {},
   "outputs": [
    {
     "data": {
      "text/plain": [
       "8"
      ]
     },
     "execution_count": 104,
     "metadata": {},
     "output_type": "execute_result"
    }
   ],
   "source": [
    "to_keep = fi[fi.imp>0.005].cols; len(to_keep)"
   ]
  },
  {
   "cell_type": "code",
   "execution_count": 47,
   "metadata": {},
   "outputs": [],
   "source": [
    "df_keep = dataframe[to_keep].copy()\n",
    "x_train, x_test = split_df(df_keep, train_index)"
   ]
  },
  {
   "cell_type": "code",
   "execution_count": 48,
   "metadata": {
    "scrolled": true
   },
   "outputs": [
    {
     "name": "stdout",
     "output_type": "stream",
     "text": [
      "[0.003238173738772117, 0.9979517612147193]\n"
     ]
    }
   ],
   "source": [
    "m = RandomForestRegressor(n_jobs=-1)\n",
    "m.fit(x_train, y_train)\n",
    "print_score(m)"
   ]
  },
  {
   "cell_type": "code",
   "execution_count": 49,
   "metadata": {},
   "outputs": [
    {
     "data": {
      "image/png": "[encoded data removed]",
      "text/plain": [
       "<Figure size 720x432 with 1 Axes>"
      ]
     },
     "metadata": {
      "needs_background": "light"
     },
     "output_type": "display_data"
    }
   ],
   "source": [
    "fi = rf_feat_importance(m, df_keep)\n",
    "fi.plot('cols', 'imp', figsize=(10,6), legend=False);"
   ]
  }
 ],
 "metadata": {
  "kernelspec": {
   "display_name": "Python 3",
   "language": "python",
   "name": "python3"
  },
  "language_info": {
   "codemirror_mode": {
    "name": "ipython",
    "version": 3
   },
   "file_extension": ".py",
   "mimetype": "text/x-python",
   "name": "python",
   "nbconvert_exporter": "python",
   "pygments_lexer": "ipython3",
   "version": "3.6.6"
  },
  "toc": {
   "base_numbering": 1,
   "nav_menu": {},
   "number_sections": true,
   "sideBar": true,
   "skip_h1_title": false,
   "title_cell": "Table of Contents",
   "title_sidebar": "Contents",
   "toc_cell": false,
   "toc_position": {},
   "toc_section_display": true,
   "toc_window_display": false
  }
 },
 "nbformat": 4,
 "nbformat_minor": 2
}
